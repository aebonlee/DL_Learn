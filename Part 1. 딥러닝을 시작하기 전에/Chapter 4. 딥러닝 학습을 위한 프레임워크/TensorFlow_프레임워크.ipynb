{
  "nbformat": 4,
  "nbformat_minor": 0,
  "metadata": {
    "colab": {
      "provenance": []
    },
    "kernelspec": {
      "name": "python3",
      "display_name": "Python 3"
    },
    "language_info": {
      "name": "python"
    },
    "accelerator": "GPU",
    "gpuClass": "standard"
  },
  "cells": [
    {
      "cell_type": "markdown",
      "source": [
        "### <b>1. 텐서플로우(Tensorflow) 개요</b>\n",
        "\n",
        "* Tensorflow는 기계 학습 프레임워크(framework) 중 하나다.\n",
        "  * Tensorflow에서는 텐서(tensor)를 NumPy 배열처럼 사용할 수 있다.\n",
        "* Tensorflow를 사용하면, GPU 연동을 통해 효율적으로 딥러닝 모델을 학습할 수 있다.\n",
        "* Google Colab을 이용하면, 손쉽게 Tensorflow를 시작할 수 있다.\n",
        "* Google Colab에서는 <b>[런타임]</b> - <b>[런타임 유형 변경]</b>에서 <b>GPU를 선택</b>할 수 있다."
      ],
      "metadata": {
        "id": "ARQMpNnHh6pg"
      }
    },
    {
      "cell_type": "code",
      "execution_count": 1,
      "metadata": {
        "id": "or-iVwrFf7-_"
      },
      "outputs": [],
      "source": [
        "import tensorflow as tf"
      ]
    },
    {
      "cell_type": "markdown",
      "source": [
        "#### <b>1) GPU 사용 여부 체크하기</b>\n",
        "\n",
        "* GPU를 사용하면 텐서플로우에서 딥러닝 모델을 더욱 효과적으로 학습할 수 있다.\n",
        "* 각 텐서(tensor)와 연산이 어떠한 장치에 할당되었는지 출력할 수 있다."
      ],
      "metadata": {
        "id": "mKN_mWXyiIXR"
      }
    },
    {
      "cell_type": "code",
      "source": [
        "# 각 텐서와 연산이 어떠한 장치에 할당되었는지 출력하기\n",
        "tf.debugging.set_log_device_placement(True)\n",
        "\n",
        "# 텐서 생성\n",
        "a = tf.constant([\n",
        "    [1, 1],\n",
        "    [2, 2]\n",
        "])\n",
        "b = tf.constant([\n",
        "    [5, 6],\n",
        "    [7, 8]\n",
        "])\n",
        "\n",
        "c = tf.matmul(a, b)\n",
        "print(c)\n",
        "\n",
        "tf.debugging.set_log_device_placement(False)"
      ],
      "metadata": {
        "colab": {
          "base_uri": "https://localhost:8080/"
        },
        "id": "Qk2frQaIh5uJ",
        "outputId": "53f7ed48-1631-4aaa-818f-07c83bb44223"
      },
      "execution_count": null,
      "outputs": [
        {
          "output_type": "stream",
          "name": "stdout",
          "text": [
            "Executing op _EagerConst in device /job:localhost/replica:0/task:0/device:GPU:0\n",
            "Executing op _EagerConst in device /job:localhost/replica:0/task:0/device:GPU:0\n",
            "Executing op MatMul in device /job:localhost/replica:0/task:0/device:CPU:0\n",
            "tf.Tensor(\n",
            "[[12 14]\n",
            " [24 28]], shape=(2, 2), dtype=int32)\n"
          ]
        }
      ]
    },
    {
      "cell_type": "code",
      "source": [
        "from tensorflow.python.client import device_lib\n",
        "\n",
        "# 구체적으로 사용 중인 장치(device) 정보 출력\n",
        "device_lib.list_local_devices()"
      ],
      "metadata": {
        "id": "zH6QFQ02iYi6",
        "colab": {
          "base_uri": "https://localhost:8080/"
        },
        "outputId": "a513fd1b-b976-47a9-8f1e-03a387cd462b"
      },
      "execution_count": null,
      "outputs": [
        {
          "output_type": "execute_result",
          "data": {
            "text/plain": [
              "[name: \"/device:CPU:0\"\n",
              " device_type: \"CPU\"\n",
              " memory_limit: 268435456\n",
              " locality {\n",
              " }\n",
              " incarnation: 2992541539263850853\n",
              " xla_global_id: -1, name: \"/device:GPU:0\"\n",
              " device_type: \"GPU\"\n",
              " memory_limit: 14415560704\n",
              " locality {\n",
              "   bus_id: 1\n",
              "   links {\n",
              "   }\n",
              " }\n",
              " incarnation: 17143558711181997396\n",
              " physical_device_desc: \"device: 0, name: Tesla T4, pci bus id: 0000:00:04.0, compute capability: 7.5\"\n",
              " xla_global_id: 416903419]"
            ]
          },
          "metadata": {},
          "execution_count": 2
        }
      ]
    },
    {
      "cell_type": "markdown",
      "source": [
        "### <b>2. 텐서 소개 및 생성 방법</b>\n",
        "\n",
        "* TensorFlow에서의 텐서(tensor)는 기능적으로 넘파이(NumPy)와 매우 유사하다.\n",
        "* 기본적으로 <b>다차원 배열</b>을 처리하기에 적합한 자료구조로 이해할 수 있다.\n",
        "* TensorFlow의 텐서는 \"자동 미분\" 기능을 제공한다."
      ],
      "metadata": {
        "id": "sOJA8hvujUMJ"
      }
    },
    {
      "cell_type": "markdown",
      "source": [
        "#### <b>1) 텐서의 속성</b>\n",
        "\n",
        "* 텐서의 <b>기본 속성</b>으로는 다음과 같은 것들이 있다.\n",
        "  * 모양(shape)\n",
        "  * 자료형(data type)\n",
        "  * 저장된 장치"
      ],
      "metadata": {
        "id": "1_MDdVX0kGnK"
      }
    },
    {
      "cell_type": "code",
      "source": [
        "# 기본적인 모양(shape), 자료형(data type) 출력\n",
        "data = [\n",
        "    [1, 2],\n",
        "    [3, 4]\n",
        "]\n",
        "x = tf.constant(data)\n",
        "\n",
        "print(x)\n",
        "print(tf.rank(x)) # 차원 출력"
      ],
      "metadata": {
        "colab": {
          "base_uri": "https://localhost:8080/"
        },
        "id": "FOcJ8cpDiv5p",
        "outputId": "52735d9d-e9ac-4e2b-d93c-98d457cada66"
      },
      "execution_count": null,
      "outputs": [
        {
          "output_type": "stream",
          "name": "stdout",
          "text": [
            "tf.Tensor(\n",
            "[[1 2]\n",
            " [3 4]], shape=(2, 2), dtype=int32)\n",
            "tf.Tensor(2, shape=(), dtype=int32)\n"
          ]
        }
      ]
    },
    {
      "cell_type": "markdown",
      "source": [
        "#### <b>2) 텐서 초기화</b>\n",
        "\n",
        "* 리스트 데이터에서 직접 텐서를 초기화할 수 있다."
      ],
      "metadata": {
        "id": "gRseBQTrkXGI"
      }
    },
    {
      "cell_type": "code",
      "source": [
        "data = [\n",
        "    [1, 2],\n",
        "    [3, 4]\n",
        "]\n",
        "x = tf.constant(data)\n",
        "print(x)\n",
        "print(tf.rank(x)) # 축(axis)의 개수 출력 = 차원의 개수 출력\n",
        "\n",
        "data = tf.constant(\"String\")\n",
        "print(data)"
      ],
      "metadata": {
        "colab": {
          "base_uri": "https://localhost:8080/"
        },
        "id": "pvCBvL_cjbtx",
        "outputId": "6594e9dd-734b-4a63-a84e-f206114b4cee"
      },
      "execution_count": null,
      "outputs": [
        {
          "output_type": "stream",
          "name": "stdout",
          "text": [
            "tf.Tensor(\n",
            "[[1 2]\n",
            " [3 4]], shape=(2, 2), dtype=int32)\n",
            "tf.Tensor(2, shape=(), dtype=int32)\n",
            "tf.Tensor(b'String', shape=(), dtype=string)\n"
          ]
        }
      ]
    },
    {
      "cell_type": "markdown",
      "source": [
        "* NumPy 배열에서 텐서를 초기화할 수 있다."
      ],
      "metadata": {
        "id": "9y9I_mtak231"
      }
    },
    {
      "cell_type": "code",
      "source": [
        "a = tf.constant([5])\n",
        "b = tf.constant([7])\n",
        "\n",
        "c = (a + b).numpy()\n",
        "print(c)\n",
        "print(type(c))\n",
        "\n",
        "result = c * 10\n",
        "tensor = tf.convert_to_tensor(result)\n",
        "print(tensor)\n",
        "print(type(tensor))"
      ],
      "metadata": {
        "colab": {
          "base_uri": "https://localhost:8080/"
        },
        "id": "7XrsfIFpkk5V",
        "outputId": "69fe9d72-17eb-4004-e3fa-8f07ae84372c"
      },
      "execution_count": null,
      "outputs": [
        {
          "output_type": "stream",
          "name": "stdout",
          "text": [
            "[12]\n",
            "<class 'numpy.ndarray'>\n",
            "tf.Tensor([120], shape=(1,), dtype=int32)\n",
            "<class 'tensorflow.python.framework.ops.EagerTensor'>\n"
          ]
        }
      ]
    },
    {
      "cell_type": "markdown",
      "source": [
        "#### <b>3) 다른 텐서로부터 텐서 초기화하기</b>\n",
        "\n",
        "* 다른 텐서의 정보를 토대로 텐서를 초기화할 수 있다.\n",
        "* <b>텐서의 속성</b>: 모양(shape), 자료형(data type)"
      ],
      "metadata": {
        "id": "JsyHDVq4locW"
      }
    },
    {
      "cell_type": "code",
      "source": [
        "x = tf.constant([\n",
        "    [5, 7],\n",
        "    [1, 2]\n",
        "])\n",
        "\n",
        "# x와 같은 모양과 자료형을 가지지만, 값이 1인 텐서 생성\n",
        "x_ones = tf.ones_like(x)\n",
        "print(x_ones)\n",
        "# x와 같은 모양을 가지되, 자료형은 float으로 덮어쓰고, 값은 랜덤으로 채우기\n",
        "x_rand = tf.random.uniform(shape=x.shape, dtype=tf.float32) # uniform distribution [0, 1)\n",
        "print(x_rand)"
      ],
      "metadata": {
        "colab": {
          "base_uri": "https://localhost:8080/"
        },
        "id": "6zq0Udbrk4OY",
        "outputId": "8e45b717-6db5-4fce-f829-80718b914c23"
      },
      "execution_count": null,
      "outputs": [
        {
          "output_type": "stream",
          "name": "stdout",
          "text": [
            "tf.Tensor(\n",
            "[[1 1]\n",
            " [1 1]], shape=(2, 2), dtype=int32)\n",
            "tf.Tensor(\n",
            "[[0.43502474 0.25014818]\n",
            " [0.9528583  0.4383422 ]], shape=(2, 2), dtype=float32)\n"
          ]
        }
      ]
    },
    {
      "cell_type": "markdown",
      "source": [
        "### <b>3. 텐서의 형변환 및 차원 조작</b>\n",
        "\n",
        "* 텐서는 넘파이(NumPy) 배열처럼 조작할 수 있다."
      ],
      "metadata": {
        "id": "rX0Z74jImSP0"
      }
    },
    {
      "cell_type": "markdown",
      "source": [
        "#### <b>1) 텐서의 특정 차원 접근하기</b>\n",
        "\n",
        "* 텐서의 원하는 차원에 접근할 수 있다."
      ],
      "metadata": {
        "id": "9MTc1JIInjRF"
      }
    },
    {
      "cell_type": "code",
      "source": [
        "tensor = tf.constant([\n",
        "    [1, 2, 3, 4],\n",
        "    [5, 6, 7, 8],\n",
        "    [9, 10, 11, 12]\n",
        "])\n",
        "\n",
        "print(tensor[0]) # first row\n",
        "print(tensor[:, 0]) # first column\n",
        "print(tensor[..., -1]) # last column"
      ],
      "metadata": {
        "colab": {
          "base_uri": "https://localhost:8080/"
        },
        "id": "wTASTws1mAiW",
        "outputId": "fd10720f-e2d4-4c17-e44a-07fb62638dcd"
      },
      "execution_count": null,
      "outputs": [
        {
          "output_type": "stream",
          "name": "stdout",
          "text": [
            "tf.Tensor([1 2 3 4], shape=(4,), dtype=int32)\n",
            "tf.Tensor([1 5 9], shape=(3,), dtype=int32)\n",
            "tf.Tensor([ 4  8 12], shape=(3,), dtype=int32)\n"
          ]
        }
      ]
    },
    {
      "cell_type": "markdown",
      "source": [
        "#### <b>2) 텐서 이어붙이기(Concatenate)</b>\n",
        "\n",
        "* 두 텐서를 이어 붙여 연결하여 새로운 텐서를 만들 수 있다."
      ],
      "metadata": {
        "id": "kl1EGawSnn15"
      }
    },
    {
      "cell_type": "code",
      "source": [
        "tensor = tf.constant([\n",
        "    [1, 2, 3, 4],\n",
        "    [5, 6, 7, 8],\n",
        "    [9, 10, 11, 12]\n",
        "])\n",
        "\n",
        "# axis: 텐서를 이어 붙이기 위한 축\n",
        "# 0번 축(행)을 기준으로 이어 붙이기\n",
        "result = tf.concat([tensor, tensor, tensor], axis=0)\n",
        "print(result)\n",
        "\n",
        "# 1번 축(열)을 기준으로 이어 붙이기\n",
        "result = tf.concat([tensor, tensor, tensor], axis=1)\n",
        "print(result)"
      ],
      "metadata": {
        "id": "3DNwIxTTmjD_",
        "colab": {
          "base_uri": "https://localhost:8080/"
        },
        "outputId": "7bea000d-18e7-47ca-ae36-dfed5404fffb"
      },
      "execution_count": 2,
      "outputs": [
        {
          "output_type": "stream",
          "name": "stdout",
          "text": [
            "tf.Tensor(\n",
            "[[ 1  2  3  4]\n",
            " [ 5  6  7  8]\n",
            " [ 9 10 11 12]\n",
            " [ 1  2  3  4]\n",
            " [ 5  6  7  8]\n",
            " [ 9 10 11 12]\n",
            " [ 1  2  3  4]\n",
            " [ 5  6  7  8]\n",
            " [ 9 10 11 12]], shape=(9, 4), dtype=int32)\n",
            "tf.Tensor(\n",
            "[[ 1  2  3  4  1  2  3  4  1  2  3  4]\n",
            " [ 5  6  7  8  5  6  7  8  5  6  7  8]\n",
            " [ 9 10 11 12  9 10 11 12  9 10 11 12]], shape=(3, 12), dtype=int32)\n"
          ]
        }
      ]
    },
    {
      "cell_type": "markdown",
      "source": [
        "#### <b>3) 텐서 형변환(Type Casting)</b>\n",
        "\n",
        "* 텐서의 자료형(정수, 실수 등)을 변환할 수 있다."
      ],
      "metadata": {
        "id": "upqFcojeoeva"
      }
    },
    {
      "cell_type": "code",
      "source": [
        "a = tf.constant([2])\n",
        "b = tf.constant([5.0])\n",
        "\n",
        "print(a.dtype)\n",
        "print(b.dtype)\n",
        "\n",
        "# 텐서 a를 float32 형식으로 변경한 뒤에 더하기 수행\n",
        "print(tf.cast(a, tf.float32) + b)"
      ],
      "metadata": {
        "colab": {
          "base_uri": "https://localhost:8080/"
        },
        "id": "ZRW8qbsnn8vf",
        "outputId": "d097874b-043a-4dba-fca5-e0eac7056e92"
      },
      "execution_count": 3,
      "outputs": [
        {
          "output_type": "stream",
          "name": "stdout",
          "text": [
            "<dtype: 'int32'>\n",
            "<dtype: 'float32'>\n",
            "tf.Tensor([7.], shape=(1,), dtype=float32)\n"
          ]
        }
      ]
    },
    {
      "cell_type": "markdown",
      "source": [
        "#### <b>4) 텐서의 모양 변경</b>\n",
        "\n",
        "* reshape()는 텐서의 모양을 변경할 때 사용한다.\n",
        "* 이때, 텐서(tensor)의 순서는 변경되지 않는다."
      ],
      "metadata": {
        "id": "fBiS_JBJo4JO"
      }
    },
    {
      "cell_type": "code",
      "source": [
        "a = tf.Variable([1, 2, 3, 4, 5, 6, 7, 8])\n",
        "b = tf.reshape(a, (4, 2))\n",
        "print(b)\n",
        "\n",
        "# a와 b는 서로 다른 객체\n",
        "a.assign_add([1, 1, 1, 1, 1, 1, 1, 1])\n",
        "print(a)\n",
        "print(b)"
      ],
      "metadata": {
        "colab": {
          "base_uri": "https://localhost:8080/"
        },
        "id": "zBClPGGbofum",
        "outputId": "3273eb18-86a4-445a-9a84-71bcf3932f77"
      },
      "execution_count": 4,
      "outputs": [
        {
          "output_type": "stream",
          "name": "stdout",
          "text": [
            "tf.Tensor(\n",
            "[[1 2]\n",
            " [3 4]\n",
            " [5 6]\n",
            " [7 8]], shape=(4, 2), dtype=int32)\n",
            "<tf.Variable 'Variable:0' shape=(8,) dtype=int32, numpy=array([2, 3, 4, 5, 6, 7, 8, 9], dtype=int32)>\n",
            "tf.Tensor(\n",
            "[[1 2]\n",
            " [3 4]\n",
            " [5 6]\n",
            " [7 8]], shape=(4, 2), dtype=int32)\n"
          ]
        }
      ]
    },
    {
      "cell_type": "markdown",
      "source": [
        "#### <b>5) 텐서의 차원 교환</b>\n",
        "\n",
        "* 하나의 텐서에서 특정한 차원끼리 순서를 교체할 수 있다."
      ],
      "metadata": {
        "id": "pE74DBYXpNc-"
      }
    },
    {
      "cell_type": "code",
      "source": [
        "a = tf.random.uniform((64, 32, 3))\n",
        "print(a.shape)\n",
        "\n",
        "b = tf.transpose(a, perm=[2, 1, 0]) # 차원 자체를 교환\n",
        "# (2번째 축, 1번째 축, 0번째 축)의 형태가 되도록 한다.\n",
        "print(b.shape)"
      ],
      "metadata": {
        "colab": {
          "base_uri": "https://localhost:8080/"
        },
        "id": "m-urDhuuo7bW",
        "outputId": "012615c3-256f-47bd-98b7-da0566cf80fa"
      },
      "execution_count": 5,
      "outputs": [
        {
          "output_type": "stream",
          "name": "stdout",
          "text": [
            "(64, 32, 3)\n",
            "(3, 32, 64)\n"
          ]
        }
      ]
    },
    {
      "cell_type": "markdown",
      "source": [
        "### <b>4. 텐서의 연산과 함수</b>"
      ],
      "metadata": {
        "id": "Gmt8pVFyp611"
      }
    },
    {
      "cell_type": "markdown",
      "source": [
        "#### <b>1) 텐서의 연산</b>\n",
        "\n",
        "* 텐서에 대하여 사칙연산 등 기본적인 연산을 수행할 수 있다."
      ],
      "metadata": {
        "id": "cP4Z78IBtsHf"
      }
    },
    {
      "cell_type": "code",
      "source": [
        "# 같은 크기를 가진 두 개의 텐서에 대하여 사칙연산 가능\n",
        "# 기본적으로 요소별(element-wise) 연산\n",
        "a = tf.constant([\n",
        "    [1, 2],\n",
        "    [3, 4]\n",
        "])\n",
        "b = tf.constant([\n",
        "    [5, 6],\n",
        "    [7, 8]\n",
        "])\n",
        "print(a + b)\n",
        "print(a - b)\n",
        "print(a * b)\n",
        "print(a / b)"
      ],
      "metadata": {
        "colab": {
          "base_uri": "https://localhost:8080/"
        },
        "id": "PRa0aaoFpTAd",
        "outputId": "5aaac9ad-ee52-4c23-e260-803a3fbb1bb0"
      },
      "execution_count": 6,
      "outputs": [
        {
          "output_type": "stream",
          "name": "stdout",
          "text": [
            "tf.Tensor(\n",
            "[[ 6  8]\n",
            " [10 12]], shape=(2, 2), dtype=int32)\n",
            "tf.Tensor(\n",
            "[[-4 -4]\n",
            " [-4 -4]], shape=(2, 2), dtype=int32)\n",
            "tf.Tensor(\n",
            "[[ 5 12]\n",
            " [21 32]], shape=(2, 2), dtype=int32)\n",
            "tf.Tensor(\n",
            "[[0.2        0.33333333]\n",
            " [0.42857143 0.5       ]], shape=(2, 2), dtype=float64)\n"
          ]
        }
      ]
    },
    {
      "cell_type": "markdown",
      "source": [
        "* 행렬 곱을 수행할 수 있다."
      ],
      "metadata": {
        "id": "W8y5S9lwqHiu"
      }
    },
    {
      "cell_type": "code",
      "source": [
        "a = tf.constant([\n",
        "    [1, 2],\n",
        "    [3, 4]\n",
        "])\n",
        "b = tf.constant([\n",
        "    [5, 6],\n",
        "    [7, 8]\n",
        "])\n",
        "# 행렬 곱(matrix multiplication) 수행\n",
        "print(tf.matmul(a, b))"
      ],
      "metadata": {
        "colab": {
          "base_uri": "https://localhost:8080/"
        },
        "id": "bGtRE117qD7W",
        "outputId": "ae643042-50f2-44f0-d539-f160e0d074f6"
      },
      "execution_count": 8,
      "outputs": [
        {
          "output_type": "stream",
          "name": "stdout",
          "text": [
            "tf.Tensor(\n",
            "[[19 22]\n",
            " [43 50]], shape=(2, 2), dtype=int32)\n"
          ]
        }
      ]
    },
    {
      "cell_type": "markdown",
      "source": [
        "#### <b>2) 텐서의 평균 함수</b>\n",
        "\n",
        "* 텐서의 평균(mean)을 계산할 수 있다.\n",
        "* 텐서플로우(tensorflow)에서는 차원이 감소한다는 의미로 <b>reduce</b>라는 용어를 사용한다."
      ],
      "metadata": {
        "id": "YxWUdmPetuDA"
      }
    },
    {
      "cell_type": "code",
      "source": [
        "a = tf.constant([\n",
        "    [1, 2, 3, 4],\n",
        "    [5, 6, 7, 8]\n",
        "])\n",
        "print(a)\n",
        "print(tf.reduce_mean(a)) # 전체 원소에 대한 평균\n",
        "print(tf.reduce_mean(a, axis=0)) # 각 열에 대하여 평균 계산\n",
        "print(tf.reduce_mean(a, axis=1)) # 각 행에 대하여 평균 계산"
      ],
      "metadata": {
        "colab": {
          "base_uri": "https://localhost:8080/"
        },
        "id": "iTdBF2OaqL6O",
        "outputId": "76001970-0efd-4754-b0c7-b9112f8dbda8"
      },
      "execution_count": 12,
      "outputs": [
        {
          "output_type": "stream",
          "name": "stdout",
          "text": [
            "tf.Tensor(\n",
            "[[1 2 3 4]\n",
            " [5 6 7 8]], shape=(2, 4), dtype=int32)\n",
            "tf.Tensor(4, shape=(), dtype=int32)\n",
            "tf.Tensor([3 4 5 6], shape=(4,), dtype=int32)\n",
            "tf.Tensor([2 6], shape=(2,), dtype=int32)\n"
          ]
        }
      ]
    },
    {
      "cell_type": "markdown",
      "source": [
        "#### <b>3) 텐서의 합계 함수</b>\n",
        "\n",
        "* 텐서의 합계(sum)를 계산할 수 있다."
      ],
      "metadata": {
        "id": "WrgqZOn9uDYL"
      }
    },
    {
      "cell_type": "code",
      "source": [
        "a = tf.constant([\n",
        "    [1, 2, 3, 4],\n",
        "    [5, 6, 7, 8]\n",
        "])\n",
        "print(a)\n",
        "print(tf.reduce_sum(a)) # 전체 원소에 대한 합계\n",
        "print(tf.reduce_sum(a, axis=0)) # 각 열에 대하여 합계 계산\n",
        "print(tf.reduce_sum(a, axis=1)) # 각 행에 대하여 합계 계산"
      ],
      "metadata": {
        "colab": {
          "base_uri": "https://localhost:8080/"
        },
        "id": "7WLfzJrptwcc",
        "outputId": "1bd41df7-0fda-44d5-9eb3-3471340b3efe"
      },
      "execution_count": 15,
      "outputs": [
        {
          "output_type": "stream",
          "name": "stdout",
          "text": [
            "tf.Tensor(\n",
            "[[1 2 3 4]\n",
            " [5 6 7 8]], shape=(2, 4), dtype=int32)\n",
            "tf.Tensor(36, shape=(), dtype=int32)\n",
            "tf.Tensor([ 6  8 10 12], shape=(4,), dtype=int32)\n",
            "tf.Tensor([10 26], shape=(2,), dtype=int32)\n"
          ]
        }
      ]
    },
    {
      "cell_type": "markdown",
      "source": [
        "#### <b>4) 텐서의 최대 함수</b>\n",
        "\n",
        "* <b>max() 함수</b>는 원소의 최댓값을 반환한다.\n",
        "* <b>argmax() 함수</b>는 가장 큰 원소(최댓값)의 인덱스를 반환한다."
      ],
      "metadata": {
        "id": "HRzcZ_ykuMQR"
      }
    },
    {
      "cell_type": "code",
      "source": [
        "a = tf.constant([\n",
        "    [1, 2, 3, 4],\n",
        "    [5, 6, 7, 8]\n",
        "])\n",
        "print(a)\n",
        "print(tf.reduce_max(a)) # 전체 원소에 대한 최댓값\n",
        "print(tf.reduce_max(a, axis=0)) # 각 열에 대하여 최댓값 계산\n",
        "print(tf.reduce_max(a, axis=1)) # 각 행에 대하여 최댓값 계산"
      ],
      "metadata": {
        "colab": {
          "base_uri": "https://localhost:8080/"
        },
        "id": "257yV8IOuEXD",
        "outputId": "7d3c4d1a-7451-4d53-f158-70cf703f1062"
      },
      "execution_count": 18,
      "outputs": [
        {
          "output_type": "stream",
          "name": "stdout",
          "text": [
            "tf.Tensor(\n",
            "[[1 2 3 4]\n",
            " [5 6 7 8]], shape=(2, 4), dtype=int32)\n",
            "tf.Tensor(8, shape=(), dtype=int32)\n",
            "tf.Tensor([5 6 7 8], shape=(4,), dtype=int32)\n",
            "tf.Tensor([4 8], shape=(2,), dtype=int32)\n"
          ]
        }
      ]
    },
    {
      "cell_type": "code",
      "source": [
        "a = tf.constant([\n",
        "    [1, 2, 3, 4],\n",
        "    [5, 6, 7, 8]\n",
        "])\n",
        "print(a)\n",
        "print(tf.argmax(a, axis=0)) # 각 열에 대하여 최댓값의 인덱스 계산\n",
        "print(tf.argmax(a, axis=1)) # 각 행에 대하여 최댓값의 인덱스 계산"
      ],
      "metadata": {
        "colab": {
          "base_uri": "https://localhost:8080/"
        },
        "id": "insoic75uO3z",
        "outputId": "25d2fb0b-64fa-4dcc-ebc2-8cb80d5989e3"
      },
      "execution_count": 23,
      "outputs": [
        {
          "output_type": "stream",
          "name": "stdout",
          "text": [
            "tf.Tensor(\n",
            "[[1 2 3 4]\n",
            " [5 6 7 8]], shape=(2, 4), dtype=int32)\n",
            "tf.Tensor([1 1 1 1], shape=(4,), dtype=int64)\n",
            "tf.Tensor([3 3], shape=(2,), dtype=int64)\n"
          ]
        }
      ]
    },
    {
      "cell_type": "markdown",
      "source": [
        "#### <b>5) 텐서의 차원 줄이기 혹은 늘리기</b>\n",
        "\n",
        "* <b>unsqueeze() 함수</b>는  크기가 1인 차원을 추가한다.\n",
        "  * 배치(batch) 차원을 추가하기 위한 목적으로 흔히 사용된다.\n",
        "* <b>squeeze() 함수</b>는 크기가 1인 차원을 제거한다."
      ],
      "metadata": {
        "id": "kZauWzRIuswr"
      }
    },
    {
      "cell_type": "code",
      "source": [
        "a = tf.constant([\n",
        "    [1, 2, 3, 4],\n",
        "    [5, 6, 7, 8]\n",
        "])\n",
        "print(a.shape)\n",
        "\n",
        "# 첫 번째 축에 차원 추가\n",
        "a = tf.expand_dims(a, 0)\n",
        "print(a)\n",
        "print(a.shape)\n",
        "\n",
        "# 네 번째 축에 차원 추가\n",
        "a = tf.expand_dims(a, 3)\n",
        "print(a)\n",
        "print(a.shape)"
      ],
      "metadata": {
        "colab": {
          "base_uri": "https://localhost:8080/"
        },
        "id": "FangOauhuhQz",
        "outputId": "62c50b16-2091-4ad8-8e31-d2cb2d70b369"
      },
      "execution_count": 26,
      "outputs": [
        {
          "output_type": "stream",
          "name": "stdout",
          "text": [
            "(2, 4)\n",
            "tf.Tensor(\n",
            "[[[1 2 3 4]\n",
            "  [5 6 7 8]]], shape=(1, 2, 4), dtype=int32)\n",
            "(1, 2, 4)\n",
            "tf.Tensor(\n",
            "[[[[1]\n",
            "   [2]\n",
            "   [3]\n",
            "   [4]]\n",
            "\n",
            "  [[5]\n",
            "   [6]\n",
            "   [7]\n",
            "   [8]]]], shape=(1, 2, 4, 1), dtype=int32)\n",
            "(1, 2, 4, 1)\n"
          ]
        }
      ]
    },
    {
      "cell_type": "code",
      "source": [
        "# 크기가 1인 차원 제거\n",
        "a = tf.squeeze(a)\n",
        "print(a)\n",
        "print(a.shape)"
      ],
      "metadata": {
        "colab": {
          "base_uri": "https://localhost:8080/"
        },
        "id": "VUNOUkZMuzo1",
        "outputId": "087e2338-6a88-4ee7-8612-47ca59be0ce8"
      },
      "execution_count": 27,
      "outputs": [
        {
          "output_type": "stream",
          "name": "stdout",
          "text": [
            "tf.Tensor(\n",
            "[[1 2 3 4]\n",
            " [5 6 7 8]], shape=(2, 4), dtype=int32)\n",
            "(2, 4)\n"
          ]
        }
      ]
    },
    {
      "cell_type": "markdown",
      "source": [
        "### <b>5. 자동 미분과 기울기(Gradient)</b>\n",
        "\n",
        "* TensorFlow에서는 Gradient Tape 기능을 제공한다.\n",
        "* 이는 \"기울기 테이프\"라는 의미를 가진다.\n",
        "* 중간의 관련 연산들을 테이프에 기록하고, 역전파(backward)를 수행했을 때 <b>기울기가 계산</b>된다."
      ],
      "metadata": {
        "id": "RaGr7dEcvRhW"
      }
    },
    {
      "cell_type": "code",
      "source": [
        "import tensorflow as tf\n",
        "\n",
        "x = tf.Variable([3.0, 4.0])\n",
        "y = tf.Variable([1.0, 2.0])\n",
        "\n",
        "# 진행되는 모든 연산들을 기록\n",
        "with tf.GradientTape() as tape:\n",
        "    z = x + y\n",
        "    loss = tf.math.reduce_mean(z)\n",
        "\n",
        "dx = tape.gradient(loss, x) # loss가 scalar이므로 계산 가능\n",
        "print(dx)"
      ],
      "metadata": {
        "colab": {
          "base_uri": "https://localhost:8080/"
        },
        "id": "b16LQMPsvTTi",
        "outputId": "2aa8cd74-90c5-41ce-a3fe-8dda74d695f2"
      },
      "execution_count": 28,
      "outputs": [
        {
          "output_type": "stream",
          "name": "stdout",
          "text": [
            "tf.Tensor([0.5 0.5], shape=(2,), dtype=float32)\n"
          ]
        }
      ]
    },
    {
      "cell_type": "markdown",
      "source": [
        "* TensorFlow에서는 변수가 아닌 상수라면 기본적으로 기울기를 측정하지 않는다. (not watched)\n",
        "* 또한, 변수라고 해도 학습 가능하지 않으면 (not trainable) 자동 미분을 사용하지 않는다."
      ],
      "metadata": {
        "id": "3QqQo7opxuvD"
      }
    },
    {
      "cell_type": "code",
      "source": [
        "x = tf.linspace(-10, 10, 100)\n",
        "\n",
        "with tf.GradientTape() as tape:\n",
        "    tape.watch(x) # constant이므로, watch() 함수 호출 필요\n",
        "    y = tf.nn.sigmoid(x)\n",
        "\n",
        "dx = tape.gradient(y, x)\n",
        "print(dx)"
      ],
      "metadata": {
        "colab": {
          "base_uri": "https://localhost:8080/"
        },
        "id": "bYjA4WsBw_sL",
        "outputId": "3d134156-112e-4df6-a09a-2278d556c979"
      },
      "execution_count": 31,
      "outputs": [
        {
          "output_type": "stream",
          "name": "stdout",
          "text": [
            "tf.Tensor(\n",
            "[4.53958077e-05 5.55575620e-05 6.79936937e-05 8.32130942e-05\n",
            " 1.01838442e-04 1.24631609e-04 1.52524715e-04 1.86658091e-04\n",
            " 2.28426653e-04 2.79536554e-04 3.42074339e-04 4.18591319e-04\n",
            " 5.12206458e-04 6.26731702e-04 7.66824507e-04 9.38173215e-04\n",
            " 1.14772200e-03 1.40394326e-03 1.71716676e-03 2.09997591e-03\n",
            " 2.56768332e-03 3.13889855e-03 3.83620191e-03 4.68693782e-03\n",
            " 5.72413978e-03 6.98759437e-03 8.52504404e-03 1.03935138e-02\n",
            " 1.26607241e-02 1.54065171e-02 1.87241696e-02 2.27213903e-02\n",
            " 2.75206964e-02 3.32587242e-02 4.00838615e-02 4.81513998e-02\n",
            " 5.76152215e-02 6.86149280e-02 8.12573764e-02 9.55919842e-02\n",
            " 1.11580066e-01 1.29060077e-01 1.47712989e-01 1.67034879e-01\n",
            " 1.86326443e-01 2.04710159e-01 2.21183725e-01 2.34711795e-01\n",
            " 2.44347497e-01 2.49363393e-01 2.49363393e-01 2.44347497e-01\n",
            " 2.34711795e-01 2.21183725e-01 2.04710159e-01 1.86326443e-01\n",
            " 1.67034879e-01 1.47712989e-01 1.29060077e-01 1.11580066e-01\n",
            " 9.55919842e-02 8.12573764e-02 6.86149280e-02 5.76152215e-02\n",
            " 4.81513998e-02 4.00838615e-02 3.32587242e-02 2.75206964e-02\n",
            " 2.27213903e-02 1.87241696e-02 1.54065171e-02 1.26607241e-02\n",
            " 1.03935138e-02 8.52504404e-03 6.98759437e-03 5.72413978e-03\n",
            " 4.68693782e-03 3.83620191e-03 3.13889855e-03 2.56768332e-03\n",
            " 2.09997591e-03 1.71716676e-03 1.40394326e-03 1.14772200e-03\n",
            " 9.38173215e-04 7.66824507e-04 6.26731702e-04 5.12206458e-04\n",
            " 4.18591319e-04 3.42074339e-04 2.79536554e-04 2.28426653e-04\n",
            " 1.86658091e-04 1.52524715e-04 1.24631609e-04 1.01838442e-04\n",
            " 8.32130942e-05 6.79936937e-05 5.55575620e-05 4.53958077e-05], shape=(100,), dtype=float64)\n"
          ]
        }
      ]
    },
    {
      "cell_type": "code",
      "source": [
        "import matplotlib.pyplot as plt\n",
        "\n",
        "plt.plot(x, y, 'r', label=\"y\")\n",
        "plt.plot(x, dx, 'b--', label=\"dy/dx\")\n",
        "plt.legend()\n",
        "plt.show()"
      ],
      "metadata": {
        "colab": {
          "base_uri": "https://localhost:8080/",
          "height": 265
        },
        "id": "wDjRJMeSxflw",
        "outputId": "11edebdc-1e18-4c9d-f7c7-ca708ae43dd8"
      },
      "execution_count": 32,
      "outputs": [
        {
          "output_type": "display_data",
          "data": {
            "text/plain": [
              "<Figure size 432x288 with 1 Axes>"
            ],
            "image/png": "[encoded data removed]"
          },
          "metadata": {
            "needs_background": "light"
          }
        }
      ]
    }
  ]
}