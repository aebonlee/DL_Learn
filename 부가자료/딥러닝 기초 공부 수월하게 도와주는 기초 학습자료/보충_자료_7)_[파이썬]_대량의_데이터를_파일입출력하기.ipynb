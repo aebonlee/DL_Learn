{
  "nbformat": 4,
  "nbformat_minor": 0,
  "metadata": {
    "colab": {
      "provenance": []
    },
    "kernelspec": {
      "name": "python3",
      "display_name": "Python 3"
    },
    "language_info": {
      "name": "python"
    }
  },
  "cells": [
    {
      "cell_type": "markdown",
      "source": [
        "### <b>대량의 데이터를 파일입출력하기</b>\n",
        "\n",
        "* 현업에서는 <b>대량의 데이터</b>를 불러오거나 저장해야 하는 경우가 많다.\n",
        "* <b>엑셀 파일 형태(.csv)</b>의 데이터를 NumPy 및 Pandas로 처리하는 방법을 알아보자."
      ],
      "metadata": {
        "id": "7SafEHf4VbHE"
      }
    },
    {
      "cell_type": "code",
      "source": [
        "import random\n",
        "import pandas as pd\n",
        "import os\n",
        "import numpy as np\n",
        "import time\n",
        "import pandas as pd\n",
        "from IPython.display import display, Image"
      ],
      "metadata": {
        "id": "dYdjsmiiMO6V"
      },
      "execution_count": null,
      "outputs": []
    },
    {
      "cell_type": "markdown",
      "source": [
        "#### <b>학생 정보 데이터 세트 만들기</b>\n",
        "\n",
        "* 학교에서는 학생 정보 관리 프로그램이 사용될 수 있다.\n",
        "* <b>가상의 학생 정보</b>를 생성하여, 파일 형태로 저장해 보자."
      ],
      "metadata": {
        "id": "IvULZLQOL2pG"
      }
    },
    {
      "cell_type": "markdown",
      "source": [
        "#### <b>1. 랜덤 데이터 생성 함수</b>\n",
        "\n",
        "* 랜덤 데이터 생성 함수를 작성한다.\n",
        "* 파이썬(python)의 random 라이브러리를 사용할 수 있다."
      ],
      "metadata": {
        "id": "ZSeq1JWbMIte"
      }
    },
    {
      "cell_type": "code",
      "execution_count": null,
      "metadata": {
        "id": "YvxN9s6vVUy4"
      },
      "outputs": [],
      "source": [
        "last_names = [\n",
        "    \"Smith\", \"Johnson\", \"Williams\", \"Jones\", \"Brown\",\n",
        "    \"Davis\", \"Miller\", \"Wilson\", \"Moore\", \"Taylor\",\n",
        "    \"Anderson\", \"Thomas\", \"Jackson\", \"White\", \"Harris\",\n",
        "    \"Martin\", \"Thompson\", \"Garcia\", \"Martinez\", \"Robinson\",\n",
        "    \"Clark\", \"Rodriguez\", \"Lewis\", \"Lee\", \"Walker\",\n",
        "    \"Hall\", \"Allen\", \"Young\", \"Hernandez\", \"King\"\n",
        "]\n",
        "\n",
        "first_names = [\n",
        "    \"James\", \"Mary\", \"Robert\", \"Patricia\"\t, \"John\",\n",
        "    \"Jennifer\", \"Michael\", \"Linda\", \"David\", \"Elizabeth\",\n",
        "    \"William\", \"Barbara\", \"Richard\", \"Susan\", \"Joseph\",\n",
        "    \"Jessica\", \"Thomas\", \"Sarah\", \"Charles\", \"Karen\",\n",
        "    \"Christopher\", \"Lisa\", \"Daniel\", \"Nancy\", \"Matthew\",\n",
        "    \"Betty\", \"Anthony\", \"Margaret\", \"Mark\", \"Sandra\"\n",
        "]\n",
        "\n",
        "departments = [\n",
        "    \"Computer Science\",\n",
        "    \"Mechanical Engineering\",\n",
        "    \"Biomedical Engineering\",\n",
        "    \"Radiology\",\n",
        "    \"Psychology\"\n",
        "]\n",
        "\n",
        "mu = 50\n",
        "sigma = 10\n",
        "\n",
        "grades = [1, 2, 3]\n",
        "\n",
        "def generate_name():\n",
        "    # 랜덤으로 하나의 성(last name) 추출\n",
        "    last_name = random.choice(last_names)\n",
        "    # 랜덤으로 하나의 이름(first name) 추출\n",
        "    first_name = random.choice(first_names)\n",
        "    return first_name + \" \" + last_name\n",
        "\n",
        "def genearte_department():\n",
        "    # 랜덤으로 하나의 학과(department) 추출\n",
        "    return random.choice(departments)\n",
        "\n",
        "def generate_score():\n",
        "    # 랜덤으로 하나의 성적(score) 추출\n",
        "    return np.random.normal(mu, sigma, 1)[0]\n",
        "\n",
        "def generate_grades():\n",
        "    # 랜덤으로 하나의 학년(grade) 추출\n",
        "    return random.choice(grades)"
      ]
    },
    {
      "cell_type": "markdown",
      "source": [
        "#### <b>2. 랜덤 학생 정보 생성하기</b>\n",
        "\n",
        "* 실질적으로 학생 정보를 ① 1,000, ② 10,000, ③ 100,000건 포함한 데이터 세트를 각각 생성해 보자.\n",
        "* 테이블(table) 형태의 데이터에 해당하므로, <b>판다스(Pandas)</b>의 <b>데이터프레임(dataframe)</b> 형태로 저장할 수 있다."
      ],
      "metadata": {
        "id": "RoRC9bvnMGpt"
      }
    },
    {
      "cell_type": "code",
      "source": [
        "# 학생 정보 생성 함수\n",
        "def generate_student():\n",
        "    name = generate_name()\n",
        "    department = genearte_department()\n",
        "    score = generate_score()\n",
        "    grade = generate_grades()\n",
        "\n",
        "    return name, department, score, grade\n",
        "\n",
        "def generate_dataset(cnt, path):\n",
        "    students = []\n",
        "\n",
        "    # 다수의 학생 데이터 생성 (학번, 이름, 학과, 성적, 학년)\n",
        "    for id in range(1, cnt + 1):\n",
        "        name, department, score, grade = generate_student()\n",
        "        students.append((id, name, department, score, grade))\n",
        "\n",
        "    df = pd.DataFrame(students, columns=[\"id\", \"name\", \"department\", \"score\", \"grade\"])\n",
        "    df.to_csv(path) # 학생 데이터를 엑셀 파일(.csv) 형태로 저장\n",
        "    df.head()\n",
        "\n",
        "generate_dataset(1000, \"students_1000.csv\")\n",
        "generate_dataset(10000, \"students_10000.csv\")\n",
        "generate_dataset(100000, \"students_100000.csv\")"
      ],
      "metadata": {
        "id": "i8DEb9vyMCJW"
      },
      "execution_count": null,
      "outputs": []
    },
    {
      "cell_type": "code",
      "source": [
        "result_path = [\"students_1000.csv\", \"students_10000.csv\", \"students_100000.csv\"]\n",
        "\n",
        "for path in result_path:\n",
        "    print(f\"[File: {path}]\")\n",
        "    n = os.path.getsize(path)\n",
        "    print(f\"Total size: {n:.2f} bytes.\")\n",
        "    print(f\"Total size: {n / 1024:.2f} KB.\")\n",
        "    print(f\"Total size: {n / 1024 / 1024:.2f} MB.\")"
      ],
      "metadata": {
        "colab": {
          "base_uri": "https://localhost:8080/"
        },
        "id": "6gRVKRX0Nj4J",
        "outputId": "2da32611-f7ab-4cec-cfb8-5e0f4403378a"
      },
      "execution_count": null,
      "outputs": [
        {
          "output_type": "stream",
          "name": "stdout",
          "text": [
            "[File: students_1000.csv]\n",
            "Total size: 58802.00 bytes.\n",
            "Total size: 57.42 KB.\n",
            "Total size: 0.06 MB.\n",
            "[File: students_10000.csv]\n",
            "Total size: 611650.00 bytes.\n",
            "Total size: 597.31 KB.\n",
            "Total size: 0.58 MB.\n",
            "[File: students_100000.csv]\n",
            "Total size: 6325728.00 bytes.\n",
            "Total size: 6177.47 KB.\n",
            "Total size: 6.03 MB.\n"
          ]
        }
      ]
    },
    {
      "cell_type": "markdown",
      "source": [
        "#### <b>3. 파일 입력을 통해 데이터 불러오기</b>\n",
        "\n",
        "* 파이썬의 기본적인 <b>파일 입력 함수</b>를 이용해 데이터를 불러올 수 있다.\n",
        "* <b>엑셀 파일(.csv)</b>의 경우 <b>판다스(Pandas) 라이브러리</b>를 이용해 <b>데이터프레임(dataframe)</b> 형태로 불러올 수 있다.\n",
        "* 경우에 따라서 기본적인 파일 입력 함수를 이용해 직접 구현한 것의 속도가 더 빠를 수 있다."
      ],
      "metadata": {
        "id": "zY31yqRuOE93"
      }
    },
    {
      "cell_type": "code",
      "source": [
        "def file_reader(path):\n",
        "    start_time = time.time()\n",
        "\n",
        "    students = []\n",
        "    with open(path, \"r\") as f:\n",
        "        rows = f.readlines()\n",
        "        # 첫째 줄은 속성(property)에 대한 내용이므로, 둘째 줄부터 읽기\n",
        "        for row in rows[1:]:\n",
        "            data = row.strip().split(\",\")\n",
        "            index = data[0]\n",
        "            id = data[1]\n",
        "            name = data[2]\n",
        "            department = data[3]\n",
        "            score = data[4]\n",
        "            grade = data[5]\n",
        "            student = (id, name, department, score, grade)\n",
        "            students.append(student)\n",
        "\n",
        "    print(f\"Data inserted ({time.time() - start_time:.4f} seconds.)\")\n",
        "    return students\n",
        "\n",
        "students = file_reader(\"students_100000.csv\")\n",
        "print(students[0])\n",
        "print(students[99999])"
      ],
      "metadata": {
        "colab": {
          "base_uri": "https://localhost:8080/"
        },
        "id": "P7_ULinmPAWm",
        "outputId": "ce39064f-8d83-4a05-9bdb-a6874f78aa58"
      },
      "execution_count": null,
      "outputs": [
        {
          "output_type": "stream",
          "name": "stdout",
          "text": [
            "Data inserted (0.1992 seconds.)\n",
            "('1', 'Jessica Thomas', 'Mechanical Engineering', '36.4482202816166', '1')\n",
            "('100000', 'James Miller', 'Computer Science', '50.75770607416239', '3')\n"
          ]
        }
      ]
    },
    {
      "cell_type": "code",
      "source": [
        "def csv_reader(path):\n",
        "    start_time = time.time()\n",
        "\n",
        "    students = []\n",
        "    df = pd.read_csv(path)\n",
        "    for index, row in df.iterrows():\n",
        "        id = row[\"id\"]\n",
        "        name = row[\"name\"]\n",
        "        department = row[\"department\"]\n",
        "        score = row[\"score\"]\n",
        "        grade = row[\"grade\"]\n",
        "        student = (id, name, department, score, grade)\n",
        "        students.append(student)\n",
        "\n",
        "    print(f\"Data inserted ({time.time() - start_time:.4f} seconds.)\")\n",
        "    return students\n",
        "\n",
        "students = csv_reader(\"students_100000.csv\")\n",
        "print(students[0])\n",
        "print(students[99999])"
      ],
      "metadata": {
        "colab": {
          "base_uri": "https://localhost:8080/"
        },
        "id": "eixyT1dQOSTu",
        "outputId": "f5a27a52-3ad1-461b-fa5b-6df31862b103"
      },
      "execution_count": null,
      "outputs": [
        {
          "output_type": "stream",
          "name": "stdout",
          "text": [
            "Data inserted (19.8460 seconds.)\n",
            "(1, 'Jessica Thomas', 'Mechanical Engineering', 36.4482202816166, 1)\n",
            "(100000, 'James Miller', 'Computer Science', 50.75770607416239, 3)\n"
          ]
        }
      ]
    },
    {
      "cell_type": "markdown",
      "source": [
        "#### <b>Image Captcha 라이브러리(Library)</b>\n",
        "\n",
        "* 특정 자릿수의 정수를 이미지 형태로 반환하는 <b>이미지 캡차(image captcha)</b> 라이브러리를 사용해 보자.\n",
        "* <b>Reference</b>: https://pypi.org/project/captcha/"
      ],
      "metadata": {
        "id": "9aPj3hjgSN1P"
      }
    },
    {
      "cell_type": "code",
      "source": [
        "!pip install captcha"
      ],
      "metadata": {
        "colab": {
          "base_uri": "https://localhost:8080/"
        },
        "id": "OAlCOYAZSRNO",
        "outputId": "a29333c5-39b1-48dc-b6c6-052e2ff4f009"
      },
      "execution_count": null,
      "outputs": [
        {
          "output_type": "stream",
          "name": "stdout",
          "text": [
            "Looking in indexes: https://pypi.org/simple, https://us-python.pkg.dev/colab-wheels/public/simple/\n",
            "Collecting captcha\n",
            "  Downloading captcha-0.4-py3-none-any.whl (102 kB)\n",
            "\u001b[K     |████████████████████████████████| 102 kB 9.2 MB/s \n",
            "\u001b[?25hRequirement already satisfied: Pillow in /usr/local/lib/python3.7/dist-packages (from captcha) (7.1.2)\n",
            "Installing collected packages: captcha\n",
            "Successfully installed captcha-0.4\n"
          ]
        }
      ]
    },
    {
      "cell_type": "markdown",
      "source": [
        "#### <b>1. 랜덤 캡차 이미지 생성하기</b>\n",
        "\n",
        "* <b>(이미지, 정답 레이블)</b>을 생성한 뒤에, 메타 데이터를 저장하여 관리할 수 있다.\n",
        "* <b>메타 데이터</b>는 테이블(table) 형태의 데이터에 해당하므로, <b>판다스(Pandas)</b>의 <b>데이터프레임(dataframe)</b> 형태로 저장할 수 있다."
      ],
      "metadata": {
        "id": "OL4AsKlQaQMw"
      }
    },
    {
      "cell_type": "code",
      "source": [
        "from captcha.image import ImageCaptcha\n",
        "\n",
        "def generate_random_images(directory, n_digits, cnt):\n",
        "    # 메타 데이터 (경로, 정답)\n",
        "    metadata = []\n",
        "\n",
        "    # 디렉토리(directory)가 존재하지 않을 때\n",
        "    if not os.path.exists(directory):\n",
        "        os.makedirs(directory)\n",
        "\n",
        "    # 이미지 캡차(image captcha) 객체 생성\n",
        "    image = ImageCaptcha()\n",
        "\n",
        "    # 개수(cnt)만큼 이미지 캡차 생성\n",
        "    for i in range(cnt):\n",
        "        # 특정한 자릿수(n_digits)의 랜덤 정수 생성\n",
        "        number = random.randint(0, (10 ** n_digits) - 1)\n",
        "        # 문자열 형태로 변환\n",
        "        string = str(number).zfill(n_digits)\n",
        "        # 이미지 캡차 생성\n",
        "        cur = 0\n",
        "        path = os.path.join(directory, f\"{string}_{cur}.png\")\n",
        "        while os.path.exists(path):\n",
        "            cur += 1\n",
        "            path = os.path.join(directory, f\"{string}_{cur}.png\")\n",
        "        image.write(string, path)\n",
        "        metadata.append((f\"{string}_{cur}.png\", string))\n",
        "        \n",
        "        if (i + 1) % 1000 == 0:\n",
        "            print(f\"[Log] {i + 1} images have been generated.\")\n",
        "    \n",
        "    # 데이터를 엑셀 파일(.csv) 형태로 저장\n",
        "    df = pd.DataFrame(metadata, columns=[\"image_path\", \"target\"])\n",
        "    df.to_csv(os.path.join(directory, \"metadata.csv\"))"
      ],
      "metadata": {
        "id": "KEyFJuFeSSLN"
      },
      "execution_count": null,
      "outputs": []
    },
    {
      "cell_type": "markdown",
      "source": [
        "* 실질적으로 <b>학습용/테스트용 데이터 세트를 구축</b>할 수 있다.\n",
        "* 만들어진 데이터 세트의 구성을 확인하면 다음과 같은 형태를 보인다.\n",
        "\n",
        "<pre>\n",
        "train/\n",
        "  0001_0.png\n",
        "  0002_0.png\n",
        "  0003_0.png\n",
        "  ...\n",
        "test/\n",
        "  0009_0.png\n",
        "  0018_0.png\n",
        "  0024_0.png\n",
        "  ...\n",
        "</pre>"
      ],
      "metadata": {
        "id": "sBjaSeAYSoqQ"
      }
    },
    {
      "cell_type": "code",
      "source": [
        "# 학습 데이터 세트 생성\n",
        "directory = \"./train\"\n",
        "n_digits = 4\n",
        "cnt = 10000\n",
        "\n",
        "generate_random_images(directory, n_digits, cnt)\n",
        "\n",
        "# 테스트 데이터 세트 생성\n",
        "directory = \"./test\"\n",
        "n_digits = 4\n",
        "cnt = 1000\n",
        "\n",
        "generate_random_images(directory, n_digits, cnt)"
      ],
      "metadata": {
        "colab": {
          "base_uri": "https://localhost:8080/"
        },
        "id": "f-kHLTNNSnYs",
        "outputId": "86ae7e71-2414-42dc-818b-7698983ceec3"
      },
      "execution_count": null,
      "outputs": [
        {
          "output_type": "stream",
          "name": "stdout",
          "text": [
            "[Log] 1000 images have been generated.\n",
            "[Log] 2000 images have been generated.\n",
            "[Log] 3000 images have been generated.\n",
            "[Log] 4000 images have been generated.\n",
            "[Log] 5000 images have been generated.\n",
            "[Log] 6000 images have been generated.\n",
            "[Log] 7000 images have been generated.\n",
            "[Log] 8000 images have been generated.\n",
            "[Log] 9000 images have been generated.\n",
            "[Log] 10000 images have been generated.\n",
            "[Log] 1000 images have been generated.\n"
          ]
        }
      ]
    },
    {
      "cell_type": "markdown",
      "source": [
        "#### <b>2. 만들어진 데이터 세트 불러오기</b>\n",
        "\n",
        "* <b>메타 데이터</b>를 먼저 불러온 뒤에, 실제 이미지 데이터에 접근할 수 있다."
      ],
      "metadata": {
        "id": "AAP7fJIEahqK"
      }
    },
    {
      "cell_type": "code",
      "source": [
        "train_directory = \"./train\"\n",
        "print(f\"학습 데이터 개수: {len(os.listdir(train_directory))}\")\n",
        "\n",
        "test_directory = \"./test\"\n",
        "print(f\"테스트 데이터 개수: {len(os.listdir(test_directory))}\")"
      ],
      "metadata": {
        "colab": {
          "base_uri": "https://localhost:8080/"
        },
        "id": "XhoPoh2-Xc2r",
        "outputId": "8f16dd08-2be3-401b-c9cc-d94e3721107c"
      },
      "execution_count": null,
      "outputs": [
        {
          "output_type": "stream",
          "name": "stdout",
          "text": [
            "학습 데이터 개수: 10001\n",
            "테스트 데이터 개수: 1001\n"
          ]
        }
      ]
    },
    {
      "cell_type": "code",
      "source": [
        "def csv_reader(path):\n",
        "    start_time = time.time()\n",
        "    dtype_dict = {\n",
        "        \"image_path\": str, \n",
        "        \"target\" : str\n",
        "    }\n",
        "    data_list = []\n",
        "    # 정답 레이블은 문자열(string) 형태\n",
        "    df = pd.read_csv(path, dtype=dtype_dict)\n",
        "    for index, row in df.iterrows():\n",
        "        image_path = row[\"image_path\"]\n",
        "        target = row[\"target\"]\n",
        "        data = (image_path, target)\n",
        "        data_list.append(data)\n",
        "\n",
        "    print(f\"Data inserted ({time.time() - start_time:.4f} seconds.)\")\n",
        "    return data_list\n",
        "\n",
        "data_list = csv_reader(\"./train/metadata.csv\")\n",
        "print(f\"전체 데이터 개수: {len(data_list)}\")\n",
        "print(data_list[0])"
      ],
      "metadata": {
        "colab": {
          "base_uri": "https://localhost:8080/"
        },
        "id": "I4Z3NspwYPUr",
        "outputId": "8350ca10-9c8a-4338-ec20-5655fa4db492"
      },
      "execution_count": null,
      "outputs": [
        {
          "output_type": "stream",
          "name": "stdout",
          "text": [
            "Data inserted (0.5496 seconds.)\n",
            "전체 데이터 개수: 10000\n",
            "('4687_0.png', '4687')\n"
          ]
        }
      ]
    },
    {
      "cell_type": "code",
      "source": [
        "image_path, target = data_list[0]\n",
        "image = Image(os.path.join(\"./train\", image_path))\n",
        "display(image)"
      ],
      "metadata": {
        "colab": {
          "base_uri": "https://localhost:8080/",
          "height": 77
        },
        "id": "-3ju0abUapaB",
        "outputId": "cdd718ca-78ae-40bc-93d4-3367cb1942a3"
      },
      "execution_count": null,
      "outputs": [
        {
          "output_type": "display_data",
          "data": {
            "image/png": "[encoded data removed]",
            "text/plain": [
              "<IPython.core.display.Image object>"
            ]
          },
          "metadata": {}
        }
      ]
    }
  ]
}