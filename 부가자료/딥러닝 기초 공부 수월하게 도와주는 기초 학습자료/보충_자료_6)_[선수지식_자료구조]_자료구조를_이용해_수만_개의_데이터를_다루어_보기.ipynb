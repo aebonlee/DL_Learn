{
  "nbformat": 4,
  "nbformat_minor": 0,
  "metadata": {
    "colab": {
      "provenance": []
    },
    "kernelspec": {
      "name": "python3",
      "display_name": "Python 3"
    },
    "language_info": {
      "name": "python"
    }
  },
  "cells": [
    {
      "cell_type": "markdown",
      "source": [
        "### <b>자료구조를 이용해 수만 개의 데이터를 다루어 보기</b>\n",
        "\n",
        "* <b>수만 개</b>의 데이터를 생성하여, 자료구조에 데이터를 <b>삽입/수정/삭제</b>하면서 시간을 측정해 볼 수 있다."
      ],
      "metadata": {
        "id": "78UnI5Q7ByLq"
      }
    },
    {
      "cell_type": "code",
      "source": [
        "import random\n",
        "import numpy as np\n",
        "import pandas as pd\n",
        "\n",
        "import heapq\n",
        "import time"
      ],
      "metadata": {
        "id": "biRboKbtDrWa"
      },
      "execution_count": null,
      "outputs": []
    },
    {
      "cell_type": "markdown",
      "source": [
        "#### <b>학생 정보 데이터 세트 만들기</b>\n",
        "\n",
        "* 학교에서는 학생 정보 관리 프로그램이 사용될 수 있다.\n",
        "* <b>가상의 학생 정보</b>를 생성하여, 파일 형태로 저장해 보자."
      ],
      "metadata": {
        "id": "k0Iih2lcCrE5"
      }
    },
    {
      "cell_type": "markdown",
      "source": [
        "#### <b>1. 이름 데이터 생성 함수</b>\n",
        "\n",
        "* <b>성(last name)</b>과 <b>이름(first name)</b>을 30개씩 준비한다.\n",
        "  * 가능한 조합은 <b>30 * 30 = 900개</b>이다."
      ],
      "metadata": {
        "id": "7V4pvbOJEtgq"
      }
    },
    {
      "cell_type": "code",
      "execution_count": null,
      "metadata": {
        "id": "_bkPi_X3hVSZ",
        "colab": {
          "base_uri": "https://localhost:8080/"
        },
        "outputId": "724536d3-0dd8-42a1-ec16-0c25ccc9f971"
      },
      "outputs": [
        {
          "output_type": "stream",
          "name": "stdout",
          "text": [
            "Student name: Anthony Walker\n"
          ]
        }
      ],
      "source": [
        "last_names = [\n",
        "    \"Smith\", \"Johnson\", \"Williams\", \"Jones\", \"Brown\",\n",
        "    \"Davis\", \"Miller\", \"Wilson\", \"Moore\", \"Taylor\",\n",
        "    \"Anderson\", \"Thomas\", \"Jackson\", \"White\", \"Harris\",\n",
        "    \"Martin\", \"Thompson\", \"Garcia\", \"Martinez\", \"Robinson\",\n",
        "    \"Clark\", \"Rodriguez\", \"Lewis\", \"Lee\", \"Walker\",\n",
        "    \"Hall\", \"Allen\", \"Young\", \"Hernandez\", \"King\"\n",
        "]\n",
        "\n",
        "first_names = [\n",
        "    \"James\", \"Mary\", \"Robert\", \"Patricia\"\t, \"John\",\n",
        "    \"Jennifer\", \"Michael\", \"Linda\", \"David\", \"Elizabeth\",\n",
        "    \"William\", \"Barbara\", \"Richard\", \"Susan\", \"Joseph\",\n",
        "    \"Jessica\", \"Thomas\", \"Sarah\", \"Charles\", \"Karen\",\n",
        "    \"Christopher\", \"Lisa\", \"Daniel\", \"Nancy\", \"Matthew\",\n",
        "    \"Betty\", \"Anthony\", \"Margaret\", \"Mark\", \"Sandra\"\n",
        "]\n",
        "\n",
        "def generate_name():\n",
        "    # 랜덤으로 하나의 성(last name) 추출\n",
        "    last_name = random.choice(last_names)\n",
        "    # 랜덤으로 하나의 이름(first name) 추출\n",
        "    first_name = random.choice(first_names)\n",
        "    return first_name + \" \" + last_name\n",
        "\n",
        "print(f\"Student name: {generate_name()}\")"
      ]
    },
    {
      "cell_type": "markdown",
      "source": [
        "#### <b>2. 학과, 성적, 학년 데이터 생성 함수</b>\n",
        "\n",
        "* 5개의 <b>학과</b>를 준비한다.\n",
        "* <b>성적</b>은 평균(mean)이 50점, 표준편차가 10점인 정규 분포를 따른다고 가정한다.\n",
        "* 3개의 <b>학년</b>을 준비한다."
      ],
      "metadata": {
        "id": "Ye6KGLsOEwa5"
      }
    },
    {
      "cell_type": "code",
      "source": [
        "departments = [\n",
        "    \"Computer Science\",\n",
        "    \"Mechanical Engineering\",\n",
        "    \"Biomedical Engineering\",\n",
        "    \"Radiology\",\n",
        "    \"Psychology\"\n",
        "]\n",
        "\n",
        "def genearte_department():\n",
        "    # 랜덤으로 하나의 학과(department) 추출\n",
        "    return random.choice(departments)\n",
        "\n",
        "mu = 50\n",
        "sigma = 10\n",
        "\n",
        "def generate_score():\n",
        "    # 랜덤으로 하나의 성적(score) 추출\n",
        "    return np.random.normal(mu, sigma, 1)[0]\n",
        "\n",
        "grades = [1, 2, 3]\n",
        "\n",
        "def generate_grades():\n",
        "    # 랜덤으로 하나의 학년(grade) 추출\n",
        "    return random.choice(grades)"
      ],
      "metadata": {
        "id": "-X3gXiytDZeR"
      },
      "execution_count": null,
      "outputs": []
    },
    {
      "cell_type": "markdown",
      "source": [
        "#### <b>3. 학생 정보 생성 함수</b>\n",
        "\n",
        "* 실질적으로 학생 정보를 20,000건 생성한다.\n",
        "* 생성한 20,000 건의 학생 데이터는 <b>판다스(Pandas)</b>의 <b>데이터프레임(dataframe)</b> 형태로 저장한다."
      ],
      "metadata": {
        "id": "XjeMey3oHm5z"
      }
    },
    {
      "cell_type": "code",
      "source": [
        "# 학생 정보 생성 함수\n",
        "def generate_student():\n",
        "    name = generate_name()\n",
        "    department = genearte_department()\n",
        "    score = generate_score()\n",
        "    grade = generate_grades()\n",
        "\n",
        "    return name, department, score, grade\n",
        "\n",
        "# 20,000 건의 학생 데이터 생성 (학번, 이름, 학과, 성적, 학년)\n",
        "students = []\n",
        "cnt = 20000\n",
        "for id in range(1, cnt + 1):\n",
        "    name, department, score, grade = generate_student()\n",
        "    students.append((id, name, department, score, grade))\n",
        "\n",
        "df = pd.DataFrame(students, columns=[\"id\", \"name\", \"department\", \"score\", \"grade\"])\n",
        "df.to_csv(\"students.csv\") # 학생 데이터를 엑셀 파일(.csv) 형태로 저장\n",
        "df.head()"
      ],
      "metadata": {
        "colab": {
          "base_uri": "https://localhost:8080/",
          "height": 206
        },
        "id": "JF_Q9CCzDpzi",
        "outputId": "7558f76e-bb93-4dd7-954c-8a2ba7ece788"
      },
      "execution_count": null,
      "outputs": [
        {
          "output_type": "execute_result",
          "data": {
            "text/plain": [
              "   id             name              department      score  grade\n",
              "0   1  Elizabeth Brown               Radiology  63.775645      1\n",
              "1   2        Betty Lee  Biomedical Engineering  59.286032      1\n",
              "2   3     Joseph Clark             Psychology   28.352915      2\n",
              "3   4     James Wilson             Psychology   63.829536      1\n",
              "4   5      Susan Jones               Radiology  45.895009      3"
            ],
            "text/html": [
              "\n",
              "  <div id=\"df-ed3aa9a6-fcbf-4327-9f1c-aa7d72fb034a\">\n",
              "    <div class=\"colab-df-container\">\n",
              "      <div>\n",
              "<style scoped>\n",
              "    .dataframe tbody tr th:only-of-type {\n",
              "        vertical-align: middle;\n",
              "    }\n",
              "\n",
              "    .dataframe tbody tr th {\n",
              "        vertical-align: top;\n",
              "    }\n",
              "\n",
              "    .dataframe thead th {\n",
              "        text-align: right;\n",
              "    }\n",
              "</style>\n",
              "<table border=\"1\" class=\"dataframe\">\n",
              "  <thead>\n",
              "    <tr style=\"text-align: right;\">\n",
              "      <th></th>\n",
              "      <th>id</th>\n",
              "      <th>name</th>\n",
              "      <th>department</th>\n",
              "      <th>score</th>\n",
              "      <th>grade</th>\n",
              "    </tr>\n",
              "  </thead>\n",
              "  <tbody>\n",
              "    <tr>\n",
              "      <th>0</th>\n",
              "      <td>1</td>\n",
              "      <td>Elizabeth Brown</td>\n",
              "      <td>Radiology</td>\n",
              "      <td>63.775645</td>\n",
              "      <td>1</td>\n",
              "    </tr>\n",
              "    <tr>\n",
              "      <th>1</th>\n",
              "      <td>2</td>\n",
              "      <td>Betty Lee</td>\n",
              "      <td>Biomedical Engineering</td>\n",
              "      <td>59.286032</td>\n",
              "      <td>1</td>\n",
              "    </tr>\n",
              "    <tr>\n",
              "      <th>2</th>\n",
              "      <td>3</td>\n",
              "      <td>Joseph Clark</td>\n",
              "      <td>Psychology</td>\n",
              "      <td>28.352915</td>\n",
              "      <td>2</td>\n",
              "    </tr>\n",
              "    <tr>\n",
              "      <th>3</th>\n",
              "      <td>4</td>\n",
              "      <td>James Wilson</td>\n",
              "      <td>Psychology</td>\n",
              "      <td>63.829536</td>\n",
              "      <td>1</td>\n",
              "    </tr>\n",
              "    <tr>\n",
              "      <th>4</th>\n",
              "      <td>5</td>\n",
              "      <td>Susan Jones</td>\n",
              "      <td>Radiology</td>\n",
              "      <td>45.895009</td>\n",
              "      <td>3</td>\n",
              "    </tr>\n",
              "  </tbody>\n",
              "</table>\n",
              "</div>\n",
              "      <button class=\"colab-df-convert\" onclick=\"convertToInteractive('df-ed3aa9a6-fcbf-4327-9f1c-aa7d72fb034a')\"\n",
              "              title=\"Convert this dataframe to an interactive table.\"\n",
              "              style=\"display:none;\">\n",
              "        \n",
              "  <svg xmlns=\"http://www.w3.org/2000/svg\" height=\"24px\"viewBox=\"0 0 24 24\"\n",
              "       width=\"24px\">\n",
              "    <path d=\"M0 0h24v24H0V0z\" fill=\"none\"/>\n",
              "    <path d=\"M18.56 5.44l.94 2.06.94-2.06 2.06-.94-2.06-.94-.94-2.06-.94 2.06-2.06.94zm-11 1L8.5 8.5l.94-2.06 2.06-.94-2.06-.94L8.5 2.5l-.94 2.06-2.06.94zm10 10l.94 2.06.94-2.06 2.06-.94-2.06-.94-.94-2.06-.94 2.06-2.06.94z\"/><path d=\"M17.41 7.96l-1.37-1.37c-.4-.4-.92-.59-1.43-.59-.52 0-1.04.2-1.43.59L10.3 9.45l-7.72 7.72c-.78.78-.78 2.05 0 2.83L4 21.41c.39.39.9.59 1.41.59.51 0 1.02-.2 1.41-.59l7.78-7.78 2.81-2.81c.8-.78.8-2.07 0-2.86zM5.41 20L4 18.59l7.72-7.72 1.47 1.35L5.41 20z\"/>\n",
              "  </svg>\n",
              "      </button>\n",
              "      \n",
              "  <style>\n",
              "    .colab-df-container {\n",
              "      display:flex;\n",
              "      flex-wrap:wrap;\n",
              "      gap: 12px;\n",
              "    }\n",
              "\n",
              "    .colab-df-convert {\n",
              "      background-color: #E8F0FE;\n",
              "      border: none;\n",
              "      border-radius: 50%;\n",
              "      cursor: pointer;\n",
              "      display: none;\n",
              "      fill: #1967D2;\n",
              "      height: 32px;\n",
              "      padding: 0 0 0 0;\n",
              "      width: 32px;\n",
              "    }\n",
              "\n",
              "    .colab-df-convert:hover {\n",
              "      background-color: #E2EBFA;\n",
              "      box-shadow: 0px 1px 2px rgba(60, 64, 67, 0.3), 0px 1px 3px 1px rgba(60, 64, 67, 0.15);\n",
              "      fill: #174EA6;\n",
              "    }\n",
              "\n",
              "    [theme=dark] .colab-df-convert {\n",
              "      background-color: #3B4455;\n",
              "      fill: #D2E3FC;\n",
              "    }\n",
              "\n",
              "    [theme=dark] .colab-df-convert:hover {\n",
              "      background-color: #434B5C;\n",
              "      box-shadow: 0px 1px 3px 1px rgba(0, 0, 0, 0.15);\n",
              "      filter: drop-shadow(0px 1px 2px rgba(0, 0, 0, 0.3));\n",
              "      fill: #FFFFFF;\n",
              "    }\n",
              "  </style>\n",
              "\n",
              "      <script>\n",
              "        const buttonEl =\n",
              "          document.querySelector('#df-ed3aa9a6-fcbf-4327-9f1c-aa7d72fb034a button.colab-df-convert');\n",
              "        buttonEl.style.display =\n",
              "          google.colab.kernel.accessAllowed ? 'block' : 'none';\n",
              "\n",
              "        async function convertToInteractive(key) {\n",
              "          const element = document.querySelector('#df-ed3aa9a6-fcbf-4327-9f1c-aa7d72fb034a');\n",
              "          const dataTable =\n",
              "            await google.colab.kernel.invokeFunction('convertToInteractive',\n",
              "                                                     [key], {});\n",
              "          if (!dataTable) return;\n",
              "\n",
              "          const docLinkHtml = 'Like what you see? Visit the ' +\n",
              "            '<a target=\"_blank\" href=https://colab.research.google.com/notebooks/data_table.ipynb>data table notebook</a>'\n",
              "            + ' to learn more about interactive tables.';\n",
              "          element.innerHTML = '';\n",
              "          dataTable['output_type'] = 'display_data';\n",
              "          await google.colab.output.renderOutput(dataTable, element);\n",
              "          const docLink = document.createElement('div');\n",
              "          docLink.innerHTML = docLinkHtml;\n",
              "          element.appendChild(docLink);\n",
              "        }\n",
              "      </script>\n",
              "    </div>\n",
              "  </div>\n",
              "  "
            ]
          },
          "metadata": {},
          "execution_count": 35
        }
      ]
    },
    {
      "cell_type": "markdown",
      "source": [
        "#### <b>힙(Heap) 자료구조 사용해보기</b>\n",
        "\n",
        "* <b>힙(heap)</b> 자료구조에 학생의 데이터를 성적순으로 삽입하여 관리해보자.\n",
        "* 가장 성적이 낮은 100명의 정보를 추출해보자.\n",
        "* 이어서 가장 성적이 낮은 10,000명의 정보를 추출해보자."
      ],
      "metadata": {
        "id": "VxhMkKAkLjQS"
      }
    },
    {
      "cell_type": "code",
      "source": [
        "start_time = time.time()\n",
        "\n",
        "heap = []\n",
        "df = pd.read_csv(\"students.csv\")\n",
        "\n",
        "for index, row in df.iterrows():\n",
        "    id = row[\"id\"]\n",
        "    name = row[\"name\"]\n",
        "    department = row[\"department\"]\n",
        "    score = row[\"score\"]\n",
        "    grade = row[\"grade\"]\n",
        "    student = (score, (id, name, department, score, grade))\n",
        "    heapq.heappush(heap, student)\n",
        "\n",
        "print(f\"Data inserted ({time.time() - start_time:.4f} seconds.)\")\n",
        "\n",
        "# 가장 작은 100개 추출\n",
        "smallest = []\n",
        "for i in range(100):\n",
        "    element = heapq.heappop(heap)\n",
        "    smallest.append(element)\n",
        "\n",
        "print(\"[The five smallest scores]\")\n",
        "for small in smallest[:5]:\n",
        "    print(small[1])\n",
        "\n",
        "# 점수가 작은 순서대로 10,000 건의 학생 데이터 추출\n",
        "for i in range(10000):\n",
        "    heapq.heappop(heap)\n",
        "print(f\"Data deleted ({time.time() - start_time:.4f} seconds.)\")\n",
        "\n",
        "# 남은 원소 중에서 가장 점수가 낮은 학생 정보 출력\n",
        "print(heap[0])"
      ],
      "metadata": {
        "colab": {
          "base_uri": "https://localhost:8080/"
        },
        "id": "pFJUDr4OIJbG",
        "outputId": "4c098719-d47c-4d46-f5a3-3d296a06b65d"
      },
      "execution_count": null,
      "outputs": [
        {
          "output_type": "stream",
          "name": "stdout",
          "text": [
            "Data inserted (1.2890 seconds.)\n",
            "[The five smallest scores]\n",
            "(10124, 'Betty Martinez', 'Computer Science', 11.98308299308976, 2)\n",
            "(7367, 'Jennifer Miller', 'Psychology ', 12.868275750631293, 1)\n",
            "(756, 'Linda Lewis', 'Mechanical Engineering', 13.013101591312967, 3)\n",
            "(11766, 'William Taylor', 'Computer Science', 13.220806242842263, 1)\n",
            "(9573, 'Daniel Harris', 'Computer Science', 14.167969127171034, 3)\n",
            "Data deleted (1.3090 seconds.)\n",
            "(50.08421006776479, (1632, 'Lisa Martin', 'Biomedical Engineering', 50.08421006776479, 2))\n"
          ]
        }
      ]
    },
    {
      "cell_type": "markdown",
      "source": [
        "#### <b>단순 리스트 사용해보기</b>\n",
        "\n",
        "* <b>리스트(list)</b> 자료구조에 학생의 데이터를 성적순으로 삽입하여 관리해보자.\n",
        "* 가장 성적이 낮은 100명의 정보를 추출해보자.\n",
        "* 이어서 가장 성적이 낮은 10,000명의 정보를 추출해보자.\n",
        "  * 정렬을 사용하지 않고, 단순히 구현해보자."
      ],
      "metadata": {
        "id": "iD8-8hF8RMHD"
      }
    },
    {
      "cell_type": "code",
      "source": [
        "# 학생 리스트 내에서 가장 성적이 낮은 학생의 인덱스(index) 반환\n",
        "def get_min(students):\n",
        "    min_index = 0\n",
        "    for i in range(len(students)):\n",
        "        if students[min_index][3] > students[i][3]:\n",
        "            min_index = i\n",
        "    return min_index\n",
        "\n",
        "start_time = time.time()\n",
        "\n",
        "students = []\n",
        "df = pd.read_csv(\"students.csv\")\n",
        "\n",
        "for index, row in df.iterrows():\n",
        "    id = row[\"id\"]\n",
        "    name = row[\"name\"]\n",
        "    department = row[\"department\"]\n",
        "    score = row[\"score\"]\n",
        "    grade = row[\"grade\"]\n",
        "    student = (id, name, department, score, grade)\n",
        "    students.append(student)\n",
        "\n",
        "print(f\"Data inserted ({time.time() - start_time:.4f} seconds.)\")\n",
        "\n",
        "# 가장 작은 100개 추출\n",
        "smallest = []\n",
        "for i in range(100):\n",
        "    index = get_min(students)\n",
        "    smallest.append(students[index])\n",
        "    del students[index]\n",
        "\n",
        "print(\"[The five smallest scores]\")\n",
        "for small in smallest[:5]:\n",
        "    print(small[1])\n",
        "\n",
        "# 점수가 작은 순서대로 10,000 건의 학생 데이터 추출\n",
        "for i in range(10000):\n",
        "    index = get_min(students)\n",
        "    del students[index]\n",
        "print(f\"Data deleted ({time.time() - start_time:.4f} seconds.)\")\n",
        "\n",
        "# 남은 원소 중에서 가장 점수가 낮은 학생 정보 출력\n",
        "index = get_min(students)\n",
        "print(students[index])"
      ],
      "metadata": {
        "colab": {
          "base_uri": "https://localhost:8080/"
        },
        "id": "5hPjIzdMRfnR",
        "outputId": "efc92ec3-ad03-43b0-ab89-57da54b50c0e"
      },
      "execution_count": null,
      "outputs": [
        {
          "output_type": "stream",
          "name": "stdout",
          "text": [
            "Data inserted (1.2708 seconds.)\n",
            "[The five smallest scores]\n",
            "Betty Martinez\n",
            "Jennifer Miller\n",
            "Linda Lewis\n",
            "William Taylor\n",
            "Daniel Harris\n",
            "Data deleted (24.1676 seconds.)\n",
            "(1632, 'Lisa Martin', 'Biomedical Engineering', 50.08421006776479, 2)\n"
          ]
        }
      ]
    }
  ]
}