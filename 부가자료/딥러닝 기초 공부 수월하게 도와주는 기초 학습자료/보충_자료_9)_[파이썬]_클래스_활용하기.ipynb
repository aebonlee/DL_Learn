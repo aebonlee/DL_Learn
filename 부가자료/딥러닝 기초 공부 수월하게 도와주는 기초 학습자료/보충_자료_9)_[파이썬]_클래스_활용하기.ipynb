{
  "nbformat": 4,
  "nbformat_minor": 0,
  "metadata": {
    "colab": {
      "provenance": []
    },
    "kernelspec": {
      "name": "python3",
      "display_name": "Python 3"
    },
    "language_info": {
      "name": "python"
    }
  },
  "cells": [
    {
      "cell_type": "markdown",
      "source": [
        "### <b>클래스 활용하기</b>\n",
        "\n",
        "* 딥러닝 프레임워크를 정상적으로 사용하기 위해서는 정해진 양식에 맞게 메서드를 작성해야 한다.\n",
        "* 딥러닝을 본격적으로 배우기 전에, 클래스를 활용해 체계적으로 코드를 구성하는 연습을 해보자."
      ],
      "metadata": {
        "id": "zMEnpsPPWtDi"
      }
    },
    {
      "cell_type": "markdown",
      "source": [
        "#### <b>캐릭터 클래스 예시</b>\n",
        "\n",
        "* 클래스는 딥러닝 프로그램을 작성할 때 자주 사용된다.\n",
        "  * <b>클래스</b>: 붕어빵 틀에 비유할 수 있다.\n",
        "  * <b>인스턴스</b>: 붕어빵 틀에서 생성된 붕어빵에 비유할 수 있다.\n",
        "* 간단히 <b>캐릭터(character)</b>에 대한 정보를 담는 캐릭터 클래스를 정의해 보자.\n",
        "* 프로그램 내에서 <b>여러 명의 캐릭터</b>를 처리한다면?\n",
        "  * 각 캐릭터의 체력(HP) 정보가 다를 수 있다.\n",
        "* 클래스의 기본적인 사용 방법을 이해해 보자."
      ],
      "metadata": {
        "id": "6libJmMZinQT"
      }
    },
    {
      "cell_type": "markdown",
      "source": [
        "#### <b>1. 캐릭터(Characater) 클래스 (부모)</b>\n",
        "\n",
        "* 클래스(class)는 여러 정보를 하나의 객체에 담을 때 사용할 수 있다.\n",
        "* 캐릭터 객체를 만들 때, 캐릭터에 대한 정보로는 다음과 같은 것이 있다.\n",
        "  * ① 이름, ② 체력(HP), ③ 힘, ④ 민첩도\n"
      ],
      "metadata": {
        "id": "Q8foapCXi1HK"
      }
    },
    {
      "cell_type": "code",
      "source": [
        "class Character:\n",
        "    def __init__(self, name, hp, strength, agility):\n",
        "        self.name = name\n",
        "        self.hp = hp\n",
        "        self.strength = strength\n",
        "        self.agility = agility\n",
        "\n",
        "    def show_character(self):\n",
        "        print(\"===== 캐릭터 정보 =====\")\n",
        "        print(f\"이름: {self.name}\")\n",
        "        print(f\"체력: {self.hp}\")\n",
        "        print(f\"힘: {self.strength}\")\n",
        "        print(f\"민첩도: {self.agility}\")\n",
        "\n",
        "    def attack(self):\n",
        "        print(f\"[{self.name}] 기본 공격 수행 (공격력: {self.strength})\")\n",
        "\n",
        "\n",
        "character1 = Character(\"슬라임\", 50, 5, 3)\n",
        "character1.show_character()\n",
        "character1.attack()\n",
        "\n",
        "character2 = Character(\"용사1\", 200, 10, 5)\n",
        "character2.show_character()\n",
        "character2.attack()"
      ],
      "metadata": {
        "colab": {
          "base_uri": "https://localhost:8080/"
        },
        "id": "H92ug5p5jpeT",
        "outputId": "d062d441-4e29-4903-d669-93189508e7d7"
      },
      "execution_count": null,
      "outputs": [
        {
          "output_type": "stream",
          "name": "stdout",
          "text": [
            "===== 캐릭터 정보 =====\n",
            "이름: 슬라임\n",
            "체력: 50\n",
            "힘: 5\n",
            "민첩도: 3\n",
            "[슬라임] 기본 공격 수행 (공격력: 5)\n",
            "===== 캐릭터 정보 =====\n",
            "이름: 용사1\n",
            "체력: 200\n",
            "힘: 10\n",
            "민첩도: 5\n",
            "[용사1] 기본 공격 수행 (공격력: 10)\n"
          ]
        }
      ]
    },
    {
      "cell_type": "markdown",
      "source": [
        "#### <b>2. 몬스터 클래스 (자식)</b>\n",
        "\n",
        "* 클래스의 <b>상속(inheritance)</b>은 체계적인 프로그램 개발을 위해 필요하다.\n",
        "* 예를 들어 캐릭터 객체는 <b>몬스터(monster)</b>와 <b>주인공(hero)</b>로 나누어질 수 있다.\n",
        "  * 이들은 <b>공통적으로</b> 이름(name), 힘(strength) 등의 정보를 가지고 있다.\n",
        "* 상속을 사용하여, 공통적으로 사용되는 변수를 매번 선언하지 않는다.\n",
        "* 몬스터는 모두 마력(MP) 정보를 가지고 있다고 가정하자."
      ],
      "metadata": {
        "id": "u2vS6y5gktUS"
      }
    },
    {
      "cell_type": "code",
      "source": [
        "class Monster(Character):\n",
        "    def __init__(self, name, hp, strength, agility, mp):\n",
        "        super().__init__(name, hp, strength, agility)\n",
        "        self.mp = mp\n",
        "\n",
        "    def recovery(self):\n",
        "        print(f\"[{self.name}] 자기 치유 (회복된 체력: {self.mp})\")\n",
        "        self.hp += self.mp\n",
        "\n",
        "monster1 = Monster(\"슬라임\", 50, 5, 3, 5)\n",
        "monster1.show_character()\n",
        "monster1.attack()\n",
        "monster1.recovery()\n",
        "monster1.show_character()"
      ],
      "metadata": {
        "colab": {
          "base_uri": "https://localhost:8080/"
        },
        "id": "1IizCJmBlF2i",
        "outputId": "eeb3fd31-2db0-4c70-c2ec-c062caaa8e6a"
      },
      "execution_count": null,
      "outputs": [
        {
          "output_type": "stream",
          "name": "stdout",
          "text": [
            "===== 캐릭터 정보 =====\n",
            "이름: 슬라임\n",
            "체력: 50\n",
            "힘: 5\n",
            "민첩도: 3\n",
            "[슬라임] 기본 공격 수행 (공격력: 5)\n",
            "[슬라임] 자기 치유 (회복된 체력: 5)\n",
            "===== 캐릭터 정보 =====\n",
            "이름: 슬라임\n",
            "체력: 55\n",
            "힘: 5\n",
            "민첩도: 3\n"
          ]
        }
      ]
    },
    {
      "cell_type": "markdown",
      "source": [
        "#### <b>3. 주인공 클래스 (자식)</b>\n",
        "\n",
        "* 주인공은 모두 직업(job) 정보를 가지고 있다고 가정하자."
      ],
      "metadata": {
        "id": "GfjC5De6nAMr"
      }
    },
    {
      "cell_type": "code",
      "source": [
        "class Hero(Character):\n",
        "    def __init__(self, name, hp, strength, agility, job):\n",
        "        super().__init__(name, hp, strength, agility)\n",
        "        self.job = job\n",
        "\n",
        "    def show_hero(self):\n",
        "        print(\"===== 주인공 정보 =====\")\n",
        "        print(f\"직업: {self.job}\")\n",
        "\n",
        "hero1 = Hero(\"용사1\", 200, 10, 5, \"마법사\")\n",
        "hero1.show_character()\n",
        "hero1.show_hero()\n",
        "hero1.attack()"
      ],
      "metadata": {
        "colab": {
          "base_uri": "https://localhost:8080/"
        },
        "id": "tPt6TULdnGZK",
        "outputId": "0df91c0f-c28b-4b0d-9ad2-aa17e89da6ad"
      },
      "execution_count": null,
      "outputs": [
        {
          "output_type": "stream",
          "name": "stdout",
          "text": [
            "===== 캐릭터 정보 =====\n",
            "이름: 용사1\n",
            "체력: 200\n",
            "힘: 10\n",
            "민첩도: 5\n",
            "===== 주인공 정보 =====\n",
            "직업: 마법사\n",
            "[용사1] 기본 공격 수행 (공격력: 10)\n"
          ]
        }
      ]
    },
    {
      "cell_type": "markdown",
      "source": [
        "#### <b>딥러닝 모델 클래스 예시</b>\n"
      ],
      "metadata": {
        "id": "OYipQ3CAn2SC"
      }
    },
    {
      "cell_type": "markdown",
      "source": [
        "#### <b>1. 딥러닝 이미지 모델 클래스 (부모)</b>\n",
        "\n",
        "* 기초적인 이미지 처리 모델은 일반적으로 인코더 정보를 포함한다.\n",
        "* <b>인코더(encoder)</b>\n",
        "  1. 특징 추출기(feature extractor)\n",
        "  2. 입력 모양(input shape)\n",
        "* 딥러닝 모델은 입력을 통해 출력을 뱉는 <b>forward()</b> 함수가 존재한다."
      ],
      "metadata": {
        "id": "CFtejJelWu2r"
      }
    },
    {
      "cell_type": "code",
      "source": [
        "class Model:\n",
        "    def __init__(self, feature_extractor, input_shape):\n",
        "        self.feature_extractor = feature_extractor\n",
        "        self.input_shape = input_shape\n",
        "\n",
        "    def show(self):\n",
        "        print(\"===== 인코더 정보 =====\")\n",
        "        print(f\"특징 추출기: {self.feature_extractor}\")\n",
        "        print(f\"입력 차원: {self.input_shape}\")\n",
        "    \n",
        "    def forward(self, x):\n",
        "        print(f\"입력 데이터: {x}\")\n",
        "        print(f\"[특징 추출기] {self.feature_extractor}\")\n",
        "\n",
        "\n",
        "model = Model(\"ResNet50 backbone\", (224, 224, 3))\n",
        "model.show()\n",
        "model.forward(x=None)"
      ],
      "metadata": {
        "colab": {
          "base_uri": "https://localhost:8080/"
        },
        "id": "540EYrH6pxfs",
        "outputId": "5be877dd-b677-46a4-f02b-66d5b465440b"
      },
      "execution_count": null,
      "outputs": [
        {
          "output_type": "stream",
          "name": "stdout",
          "text": [
            "===== 인코더 정보 =====\n",
            "특징 추출기: ResNet50 backbone\n",
            "입력 차원: (224, 224, 3)\n",
            "입력 데이터: None\n",
            "[특징 추출기] ResNet50 backbone\n"
          ]
        }
      ]
    },
    {
      "cell_type": "markdown",
      "source": [
        "#### <b>2. 이미지 분류 모델 (자식)</b>\n",
        "\n",
        "* 기초적인 이미지 분류 모델은 다음의 두 가지를 포함하는 경우가 많다.\n",
        "  1. 분류기(classifier)\n",
        "  2. 출력 모양(output shape)\n",
        "* <b>오버라이딩(overriding)</b>을 이용해 <b>forward()</b> 함수를 재정의할 수 있다."
      ],
      "metadata": {
        "id": "0fH1whjwXaFT"
      }
    },
    {
      "cell_type": "code",
      "source": [
        "class Classifier(Model):\n",
        "    def __init__(self, feature_extractor, input_shape, classifier, output_shape):\n",
        "        super().__init__(feature_extractor, input_shape)\n",
        "        self.classifier = classifier\n",
        "        self.output_shape = output_shape\n",
        "\n",
        "    def show_classifier(self):\n",
        "        print(\"===== 모델 정보 =====\")\n",
        "        print(f\"특징 추출기: {self.feature_extractor}\")\n",
        "        print(f\"분류 모델: {self.classifier}\")\n",
        "        print(f\"입력 차원: {self.input_shape}\")\n",
        "        print(f\"출력 차원: {self.output_shape}\")\n",
        "\n",
        "    def forward(self, x):\n",
        "        print(f\"입력 데이터: {x}\")\n",
        "        print(f\"[특징 추출기] {self.feature_extractor}\")\n",
        "        print(f\"[분류 모델] {self.classifier}\")\n",
        "\n",
        "model = Classifier(\"ResNet50 backbone\", (256, 256, 3), \"FC layer\", (10))\n",
        "model.show_classifier()\n",
        "model.forward(x=None)"
      ],
      "metadata": {
        "colab": {
          "base_uri": "https://localhost:8080/"
        },
        "id": "pkenxBCKq5IS",
        "outputId": "f0a3b806-9428-4d50-b705-cc82c6956e1e"
      },
      "execution_count": null,
      "outputs": [
        {
          "output_type": "stream",
          "name": "stdout",
          "text": [
            "===== 모델 정보 =====\n",
            "특징 추출기: ResNet50 backbone\n",
            "분류 모델: FC layer\n",
            "입력 차원: (256, 256, 3)\n",
            "출력 차원: 10\n",
            "입력 데이터: None\n",
            "[특징 추출기] ResNet50 backbone\n",
            "[분류 모델] FC layer\n"
          ]
        }
      ]
    },
    {
      "cell_type": "markdown",
      "source": [
        "#### <b>3. 이미지 분할(Segmentation) 모델 (자식)</b>\n",
        "\n",
        "* 기초적인 이미지 분할 모델은 다음의 두 가지를 포함하는 경우가 많다.\n",
        "  1. 디코더(decoder)\n",
        "  2. 출력 모양(output shape)\n",
        "* <b>오버라이딩(overriding)</b>을 이용해 <b>forward()</b> 함수를 재정의할 수 있다."
      ],
      "metadata": {
        "id": "fm-a6O69Xjey"
      }
    },
    {
      "cell_type": "code",
      "execution_count": null,
      "metadata": {
        "colab": {
          "base_uri": "https://localhost:8080/"
        },
        "id": "7Cs6-mNXWMtd",
        "outputId": "614fda2b-5301-4f6c-9c2c-274888b17d3c"
      },
      "outputs": [
        {
          "output_type": "stream",
          "name": "stdout",
          "text": [
            "===== 모델 정보 =====\n",
            "특징 추출기: ResNet50 backbone\n",
            "디코더: U-Net\n",
            "입력 차원: (256, 256, 3)\n",
            "출력 차원: (256, 256, 3)\n",
            "입력 데이터: None\n",
            "[특징 추출기] ResNet50 backbone\n",
            "[디코더] U-Net\n"
          ]
        }
      ],
      "source": [
        "class SegmentationModel(Model):\n",
        "    def __init__(self, feature_extractor, input_shape, decoder, output_shape):\n",
        "        super().__init__(feature_extractor, input_shape)\n",
        "        self.decoder = decoder\n",
        "        self.output_shape = output_shape\n",
        "\n",
        "    def show_segmentation_model(self):\n",
        "        print(\"===== 모델 정보 =====\")\n",
        "        print(f\"특징 추출기: {self.feature_extractor}\")\n",
        "        print(f\"디코더: {self.decoder}\")\n",
        "        print(f\"입력 차원: {self.input_shape}\")\n",
        "        print(f\"출력 차원: {self.output_shape}\")\n",
        "\n",
        "    def forward(self, x):\n",
        "        print(f\"입력 데이터: {x}\")\n",
        "        print(f\"[특징 추출기] {self.feature_extractor}\")\n",
        "        print(f\"[디코더] {self.decoder}\")\n",
        "\n",
        "model = SegmentationModel(\"ResNet50 backbone\", (256, 256, 3), \"U-Net\", (256, 256, 3))\n",
        "model.show_segmentation_model()\n",
        "model.forward(x=None)"
      ]
    }
  ]
}